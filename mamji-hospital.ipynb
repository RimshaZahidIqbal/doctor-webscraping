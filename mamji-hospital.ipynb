{
 "cells": [
  {
   "cell_type": "code",
   "execution_count": 7,
   "metadata": {},
   "outputs": [
    {
     "name": "stderr",
     "output_type": "stream",
     "text": [
      "/tmp/ipykernel_13815/143792530.py:17: DeprecationWarning: The 'text' argument to find()-type methods is deprecated. Use 'string' instead.\n",
      "  speciality = section.find_all('strong')[0].find_next_sibling(text=True).strip()\n",
      "/tmp/ipykernel_13815/143792530.py:18: DeprecationWarning: The 'text' argument to find()-type methods is deprecated. Use 'string' instead.\n",
      "  education = section.find_all('strong')[1].find_next_sibling(text=True).strip()\n",
      "/tmp/ipykernel_13815/143792530.py:19: DeprecationWarning: The 'text' argument to find()-type methods is deprecated. Use 'string' instead.\n",
      "  work_days = section.find_all('strong')[2].find_next_sibling(text=True).strip()\n"
     ]
    }
   ],
   "source": [
    "from bs4 import BeautifulSoup\n",
    "import requests\n",
    "import json\n",
    "import os \n",
    "# URL of the page to scrape\n",
    "\n",
    "\n",
    "def scrap_data(url,doctors):\n",
    "    response = requests.get(url)\n",
    "    soup = BeautifulSoup(response.text, 'html.parser')\n",
    "# Find all doctor sections\n",
    "    doctor_sections = soup.find_all('div', class_='et_pb_team_member')\n",
    "    hospital_name = \"Mamji Hospital\"\n",
    "# Extract information\n",
    "    for section in doctor_sections:\n",
    "        name = section.find('h4', class_='et_pb_module_header').text.strip()\n",
    "        speciality = section.find_all('strong')[0].find_next_sibling(text=True).strip()\n",
    "        education = section.find_all('strong')[1].find_next_sibling(text=True).strip()\n",
    "        work_days = section.find_all('strong')[2].find_next_sibling(text=True).strip()\n",
    "        image_url = section.find('img')['src']\n",
    "\n",
    "        doctor_info = {\n",
    "            'name': name,\n",
    "            'speciality': speciality,\n",
    "            'education': education,\n",
    "            'work_days': work_days,\n",
    "            'image': image_url,\n",
    "            'hospital': hospital_name\n",
    "        }\n",
    "        doctors.append(doctor_info)\n",
    "    return doctors\n",
    "\n",
    "with open(\"mamji-hospital.txt\", \"r\") as fs:\n",
    "\turls = fs.readlines()\n",
    "\n",
    "doctors = []\n",
    "\n",
    "for url in urls:\n",
    "    doctors = scrap_data(url,doctors)\n",
    "\n",
    "output_file_path = 'outputs/mamjihospitals'\n",
    "\n",
    "with open(output_file_path, 'w') as json_file:\n",
    "    json.dump(doctors, json_file, indent=4)\n",
    "\n"
   ]
  }
 ],
 "metadata": {
  "kernelspec": {
   "display_name": "Python 3",
   "language": "python",
   "name": "python3"
  },
  "language_info": {
   "codemirror_mode": {
    "name": "ipython",
    "version": 3
   },
   "file_extension": ".py",
   "mimetype": "text/x-python",
   "name": "python",
   "nbconvert_exporter": "python",
   "pygments_lexer": "ipython3",
   "version": "3.10.12"
  }
 },
 "nbformat": 4,
 "nbformat_minor": 2
}
