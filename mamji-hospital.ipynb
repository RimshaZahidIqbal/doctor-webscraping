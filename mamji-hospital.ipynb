{
 "cells": [
  {
   "cell_type": "code",
   "execution_count": 3,
   "metadata": {},
   "outputs": [
    {
     "name": "stderr",
     "output_type": "stream",
     "text": [
      "/tmp/ipykernel_10826/3308904566.py:23: DeprecationWarning: The 'text' argument to find()-type methods is deprecated. Use 'string' instead.\n",
      "  speciality = section.find_all('strong')[0].find_next_sibling(text=True).strip()\n",
      "/tmp/ipykernel_10826/3308904566.py:24: DeprecationWarning: The 'text' argument to find()-type methods is deprecated. Use 'string' instead.\n",
      "  education = section.find_all('strong')[1].find_next_sibling(text=True).strip()\n",
      "/tmp/ipykernel_10826/3308904566.py:25: DeprecationWarning: The 'text' argument to find()-type methods is deprecated. Use 'string' instead.\n",
      "  work_days = section.find_all('strong')[2].find_next_sibling(text=True).strip()\n"
     ]
    }
   ],
   "source": [
    "from bs4 import BeautifulSoup\n",
    "import requests\n",
    "import json\n",
    "import os \n",
    "# URL of the page to scrape\n",
    "# url = 'https://mamjihospital.com/paediatrician/' \n",
    "# url = 'https://mamjihospital.com/psychologist/'\n",
    "# url = 'https://mamjihospital.com/psychiatrist/'\n",
    "url = 'https://mamjihospital.com/neurologist/'\n",
    " # replace with the actual URL if different\n",
    "# Send a request to the URL\n",
    "response = requests.get(url)\n",
    "soup = BeautifulSoup(response.text, 'html.parser')\n",
    "\n",
    "# Find all doctor sections\n",
    "doctor_sections = soup.find_all('div', class_='et_pb_team_member')\n",
    "\n",
    "hospital_name = \"Mamji Hospital\"\n",
    "# Extract information\n",
    "doctors = []\n",
    "for section in doctor_sections:\n",
    "    name = section.find('h4', class_='et_pb_module_header').text.strip()\n",
    "    speciality = section.find_all('strong')[0].find_next_sibling(text=True).strip()\n",
    "    education = section.find_all('strong')[1].find_next_sibling(text=True).strip()\n",
    "    work_days = section.find_all('strong')[2].find_next_sibling(text=True).strip()\n",
    "    image_url = section.find('img')['src']\n",
    "\n",
    "    doctor_info = {\n",
    "        'name': name,\n",
    "        'speciality': speciality,\n",
    "        'education': education,\n",
    "        'work_days': work_days,\n",
    "        'image': image_url,\n",
    "        'hospital': hospital_name\n",
    "    }\n",
    "    doctors.append(doctor_info)\n",
    "\n",
    "doctor_info = 'doctors_info.json'\n",
    "\n",
    "# save i json format \n",
    "if os.path.exists(doctor_info):\n",
    "    with open(doctor_info, 'r') as json_file:\n",
    "        existing_data = json.load(json_file)\n",
    "else:\n",
    "    existing_data = []\n",
    "\n",
    "# Append new data to existing data\n",
    "existing_data.extend(doctors)\n",
    "\n",
    "# Write updated data to the JSON file\n",
    "with open(doctor_info, 'w') as json_file:\n",
    "    json.dump(existing_data, json_file, indent=4)\n",
    "# Print extracted information\n"
   ]
  },
  {
   "cell_type": "code",
   "execution_count": null,
   "metadata": {},
   "outputs": [],
   "source": [
    "\n",
    "\n",
    "\n",
    "# Find all team members\n",
    "doctors = soup.find_all('div', class_='et_pb_team_member')\n",
    "\n",
    "doctor_list = []\n",
    "\n",
    "for doctor in doctors:\n",
    "    name = doctor.find('h4', class_='et_pb_module_header').text.strip()\n",
    "    speciality = doctor.find('div').find_all('strong')[0].find_next_sibling(text=True).strip()\n",
    "    education = doctor.find('div').find_all('p')[1].text.strip()\n",
    "    work_days = doctor.find('div').find_all('p')[2].text.strip()\n",
    "\n",
    "    doctor_info = {\n",
    "        'name': name,\n",
    "        'speciality': speciality,\n",
    "        'education': education,\n",
    "        'work_days': work_days,\n",
    "        'hospital': hospital_name\n",
    "    }\n",
    "    \n",
    "    doctor_list.append(doctor_info)\n",
    "\n",
    "for doctor in doctor_list:\n",
    "    print(f\"Name: {doctor['name']}\")\n",
    "    print(f\"Speciality: {doctor['speciality']}\")\n",
    "    print(f\"Education: {doctor['education']}\")\n",
    "    print(f\"Work Days: {doctor['work_days']}\")\n",
    "    print(f\"Hospital: {doctor['hospital']}\")\n",
    "    print(\"\\n---\\n\")\n"
   ]
  },
  {
   "cell_type": "code",
   "execution_count": 2,
   "metadata": {},
   "outputs": [
    {
     "name": "stdout",
     "output_type": "stream",
     "text": [
      "Defaulting to user installation because normal site-packages is not writeable\n",
      "Requirement already satisfied: beautifulsoup4 in /home/rimsha/.local/lib/python3.10/site-packages (4.12.3)\n",
      "Requirement already satisfied: requests in /usr/lib/python3/dist-packages (2.25.1)\n",
      "Requirement already satisfied: soupsieve>1.2 in /home/rimsha/.local/lib/python3.10/site-packages (from beautifulsoup4) (2.6)\n",
      "Note: you may need to restart the kernel to use updated packages.\n"
     ]
    }
   ],
   "source": [
    "pip install beautifulsoup4 requests\n"
   ]
  }
 ],
 "metadata": {
  "kernelspec": {
   "display_name": "Python 3",
   "language": "python",
   "name": "python3"
  },
  "language_info": {
   "codemirror_mode": {
    "name": "ipython",
    "version": 3
   },
   "file_extension": ".py",
   "mimetype": "text/x-python",
   "name": "python",
   "nbconvert_exporter": "python",
   "pygments_lexer": "ipython3",
   "version": "3.10.12"
  }
 },
 "nbformat": 4,
 "nbformat_minor": 2
}
