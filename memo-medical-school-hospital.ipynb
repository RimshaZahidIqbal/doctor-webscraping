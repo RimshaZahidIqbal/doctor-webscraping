{
 "cells": [
  {
   "cell_type": "code",
   "execution_count": 8,
   "metadata": {},
   "outputs": [
    {
     "name": "stdout",
     "output_type": "stream",
     "text": [
      "['https://mmi.edu.pk/find-a-doctor/?search-type=specialty&sp=75', 'https://mmi.edu.pk/find-a-doctor/?search-type=specialty&sp=73', 'https://mmi.edu.pk/find-a-doctor/?search-type=specialty&sp=91S']\n"
     ]
    }
   ],
   "source": [
    "import json\n",
    "from bs4 import BeautifulSoup\n",
    "import requests\n",
    "import os\n",
    "\n",
    "def code(soup):\n",
    "    # Find all doctor info boxes\n",
    "    doctor_info_boxes = soup.find_all('div', class_='doctor-info-box-in')\n",
    "\n",
    "    doctors_data = []\n",
    "\n",
    "    # Extract data from each doctor info box\n",
    "    for box in doctor_info_boxes:\n",
    "        name = soup.find('h5', class_='nomargin').text.strip()\n",
    "        specialty = soup.find('div', class_='f13 doc-specialty-name').text.strip()\n",
    "        fees = soup.find('div', class_='fee').find_all('div')[1].text.strip()\n",
    "        degree = soup.find('div', class_='degree d-none').find_all('div')[1].text.strip()\n",
    "        \n",
    "        timings_divs = box.find_all('div', class_='timings-col')\n",
    "        timings = [\n",
    "            {\n",
    "                'time': div.find('div').text.strip(),\n",
    "                'days': div.find('div', class_='f12').text.strip()\n",
    "            }\n",
    "            for div in timings_divs\n",
    "        ]   \n",
    "        \n",
    "        doctor_data = {\n",
    "            'name': name,\n",
    "            'specialty': specialty,\n",
    "            'fees': fees,\n",
    "            'degree': degree,\n",
    "            'timings': timings,\n",
    "            'hospital': 'Memo Medical School Hospital'\n",
    "        }\n",
    "        \n",
    "        doctors_data.append(doctor_data)\n",
    "    \n",
    "    path = \"outputs/memon-medical-hospital.json\"\n",
    "    # Save the extracted data to a JSON file\n",
    "    if os.path.exists(path):\n",
    "        with open(path, 'r') as json_file:\n",
    "            existing_data = json.load(json_file)\n",
    "    else:\n",
    "        existing_data = []\n",
    "\n",
    "    # Append new data to existing data\n",
    "    existing_data.extend(doctors_data)\n",
    "\n",
    "    # Save back to the JSON file\n",
    "    with open(path, 'w') as json_file:\n",
    "        json.dump(existing_data, json_file, indent=4)\n",
    "\n",
    "\n",
    "def read_urls_from_file(file_path):\n",
    "    with open(file_path, 'r') as file:\n",
    "        urls = [line.strip() for line in file.readlines()]\n",
    "        print(urls)\n",
    "    return urls\n",
    "urls=read_urls_from_file('memon-medical.txt')\n",
    "for url in urls:\n",
    "    response = requests.get(url)\n",
    "    soup = BeautifulSoup(response.text, 'html.parser')\n",
    "    code(soup)"
   ]
  },
  {
   "cell_type": "code",
   "execution_count": 11,
   "metadata": {},
   "outputs": [],
   "source": [
    "import json\n",
    "import re\n",
    "\n",
    "# Load the JSON data from the file\n",
    "with open('outputs/memon-medical-hospital.json', 'r') as file:\n",
    "    data = json.load(file)\n",
    "\n",
    "# Function to clean text fields\n",
    "def clean_text(text):\n",
    "    # Remove newline characters and strip leading/trailing spaces\n",
    "    text = text.replace('\\n', '').strip()\n",
    "    # Replace multiple spaces with a single space\n",
    "    text = re.sub(' +', ' ', text)\n",
    "    return text\n",
    "\n",
    "# Iterate through each doctor entry and clean the fees and degree\n",
    "for doctor in data:\n",
    "    doctor['fees'] = clean_text(doctor.get('fees', ''))\n",
    "    doctor['degree'] = clean_text(doctor.get('degree', ''))\n",
    "\n",
    "# Save the cleaned data back to the file\n",
    "with open('outputs/memon-medical-hospital.json', 'w') as file:\n",
    "    json.dump(data, file, indent=4)\n",
    "\n",
    "\n"
   ]
  }
 ],
 "metadata": {
  "kernelspec": {
   "display_name": "Python 3",
   "language": "python",
   "name": "python3"
  },
  "language_info": {
   "codemirror_mode": {
    "name": "ipython",
    "version": 3
   },
   "file_extension": ".py",
   "mimetype": "text/x-python",
   "name": "python",
   "nbconvert_exporter": "python",
   "pygments_lexer": "ipython3",
   "version": "3.10.12"
  }
 },
 "nbformat": 4,
 "nbformat_minor": 2
}
