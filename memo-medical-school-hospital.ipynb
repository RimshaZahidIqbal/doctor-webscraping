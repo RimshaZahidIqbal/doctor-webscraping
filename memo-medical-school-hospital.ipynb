{
 "cells": [
  {
   "cell_type": "code",
   "execution_count": 23,
   "metadata": {},
   "outputs": [
    {
     "name": "stdout",
     "output_type": "stream",
     "text": [
      "['https://mmi.edu.pk/find-a-doctor/?search-type=specialty&sp=75', 'https://mmi.edu.pk/find-a-doctor/?search-type=specialty&sp=73']\n"
     ]
    }
   ],
   "source": [
    "import json\n",
    "from bs4 import BeautifulSoup\n",
    "import requests\n",
    "import os\n",
    "\n",
    "def code(soup):\n",
    "    # Find all doctor info boxes\n",
    "    doctor_info_boxes = soup.find_all('div', class_='doctor-info-box')\n",
    "\n",
    "    doctors_data = []\n",
    "\n",
    "    # Extract data from each doctor info box\n",
    "    for box in doctor_info_boxes:\n",
    "        name = box.find('h5', class_='nomargin').text.strip()\n",
    "        specialty = box.find('div', class_='doc-specialty-name').text.strip()\n",
    "        fees = box.find('div', class_='fee').find_all('div')[1].text.strip()\n",
    "        degree_div = box.find('div', class_='degree')\n",
    "        degree = degree_div.text.strip() if degree_div else ''\n",
    "        \n",
    "        timings_divs = box.find_all('div', class_='timings-col')\n",
    "        timings = [\n",
    "            {\n",
    "                'time': div.find('div').text.strip(),\n",
    "                'days': div.find('div', class_='f12').text.strip()\n",
    "            }\n",
    "            for div in timings_divs\n",
    "        ]   \n",
    "        \n",
    "        doctor_data = {\n",
    "            'name': name,\n",
    "            'specialty': specialty,\n",
    "            'fees': fees,\n",
    "            'degree': degree,\n",
    "            'timings': timings,\n",
    "            'hospital': 'Memo Medical School Hospital'\n",
    "        }\n",
    "        \n",
    "        doctors_data.append(doctor_data)\n",
    "    \n",
    "    path = \"doctors_info.json\"\n",
    "    # Save the extracted data to a JSON file\n",
    "    if os.path.exists(path):\n",
    "        with open(path, 'r') as json_file:\n",
    "            existing_data = json.load(json_file)\n",
    "    else:\n",
    "        existing_data = []\n",
    "\n",
    "    # Append new data to existing data\n",
    "    existing_data.extend(doctors_data)\n",
    "\n",
    "    # Save back to the JSON file\n",
    "    with open(path, 'w') as json_file:\n",
    "        json.dump(existing_data, json_file, indent=4)\n",
    "\n",
    "\n",
    "def read_urls_from_file(file_path):\n",
    "    with open(file_path, 'r') as file:\n",
    "        urls = [line.strip() for line in file.readlines()]\n",
    "        print(urls)\n",
    "    return urls\n",
    "urls=read_urls_from_file('memon-medical.txt')\n",
    "for url in urls:\n",
    "    response = requests.get(url)\n",
    "    soup = BeautifulSoup(response.text, 'html.parser')\n",
    "\n",
    "    code(soup)"
   ]
  }
 ],
 "metadata": {
  "kernelspec": {
   "display_name": "Python 3",
   "language": "python",
   "name": "python3"
  },
  "language_info": {
   "codemirror_mode": {
    "name": "ipython",
    "version": 3
   },
   "file_extension": ".py",
   "mimetype": "text/x-python",
   "name": "python",
   "nbconvert_exporter": "python",
   "pygments_lexer": "ipython3",
   "version": "3.10.12"
  }
 },
 "nbformat": 4,
 "nbformat_minor": 2
}
