{
 "cells": [
  {
   "cell_type": "code",
   "execution_count": 6,
   "metadata": {},
   "outputs": [
    {
     "name": "stderr",
     "output_type": "stream",
     "text": [
      "/tmp/ipykernel_18720/3323552638.py:44: DeprecationWarning: The 'text' argument to find()-type methods is deprecated. Use 'string' instead.\n",
      "  contact_tag = panel.find('span', text='Contact:')\n"
     ]
    },
    {
     "name": "stdout",
     "output_type": "stream",
     "text": [
      "[{'name': 'Dr. Hina Yousuf', 'qualifications': 'FCPS', 'department': 'Paediatric Surgery', 'hospital': 'Liaquat National Hospital', 'clinics': [{'clinic_name': 'Paediatrics Urology And Nephrology Clinic', 'location': 'Liaquat National Hospital', 'contact': '02134412474, 02134413036', 'timings': [{'day': 'Mon', 'shift': 'Morning', 'timing': '11:30 am  to  02:00 pm'}, {'day': 'Thu', 'shift': 'Morning', 'timing': '11:30 am  to  02:00 pm'}, {'day': 'Fri', 'shift': 'Afternoon', 'timing': '02:00 pm  to  04:30 pm'}, {'day': 'Sat', 'shift': 'Afternoon', 'timing': '02:00 pm  to  04:29 pm'}, {'day': 'Fri', 'shift': 'Morning', 'timing': '10:00 am  to  01:00 pm'}]}, {'clinic_name': 'Paediatrics Stone Management Clinic', 'location': 'Liaquat National Hospital', 'contact': '02134413199', 'timings': [{'day': 'Wed', 'shift': 'Evening', 'timing': '04:30 pm  to  06:00 pm'}, {'day': 'Sat', 'shift': 'Evening', 'timing': '04:30 pm  to  06:00 pm'}]}]}, {'name': 'Prof. Dr. Muhammad Arshad', 'qualifications': 'FCPS', 'department': 'Paediatric Surgery', 'hospital': 'Liaquat National Hospital', 'clinics': [{'clinic_name': 'Paediatrics Urology And Nephrology Clinic', 'location': 'Liaquat National Hospital', 'contact': '02134412474, 02134413036', 'timings': [{'day': 'Mon', 'shift': 'Morning', 'timing': '11:30 am  to  02:00 pm'}, {'day': 'Thu', 'shift': 'Morning', 'timing': '11:30 am  to  02:00 pm'}, {'day': 'Fri', 'shift': 'Afternoon', 'timing': '02:00 pm  to  04:30 pm'}, {'day': 'Sat', 'shift': 'Afternoon', 'timing': '02:00 pm  to  04:29 pm'}, {'day': 'Fri', 'shift': 'Morning', 'timing': '10:00 am  to  01:00 pm'}]}, {'clinic_name': 'Paediatrics Stone Management Clinic', 'location': 'Liaquat National Hospital', 'contact': '02134413199', 'timings': [{'day': 'Wed', 'shift': 'Evening', 'timing': '04:30 pm  to  06:00 pm'}, {'day': 'Sat', 'shift': 'Evening', 'timing': '04:30 pm  to  06:00 pm'}]}]}, {'name': 'Prof. Dr. Shabbir Hussain', 'qualifications': 'FCPS', 'department': 'Paediatric Surgery', 'hospital': 'Liaquat National Hospital', 'clinics': [{'clinic_name': 'Paediatrics Urology And Nephrology Clinic', 'location': 'Liaquat National Hospital', 'contact': '02134412474, 02134413036', 'timings': [{'day': 'Mon', 'shift': 'Morning', 'timing': '11:30 am  to  02:00 pm'}, {'day': 'Thu', 'shift': 'Morning', 'timing': '11:30 am  to  02:00 pm'}, {'day': 'Fri', 'shift': 'Afternoon', 'timing': '02:00 pm  to  04:30 pm'}, {'day': 'Sat', 'shift': 'Afternoon', 'timing': '02:00 pm  to  04:29 pm'}, {'day': 'Fri', 'shift': 'Morning', 'timing': '10:00 am  to  01:00 pm'}]}, {'clinic_name': 'Paediatrics Stone Management Clinic', 'location': 'Liaquat National Hospital', 'contact': '02134413199', 'timings': [{'day': 'Wed', 'shift': 'Evening', 'timing': '04:30 pm  to  06:00 pm'}, {'day': 'Sat', 'shift': 'Evening', 'timing': '04:30 pm  to  06:00 pm'}]}]}, {'name': 'Dr. Feroza Saleem', 'qualifications': 'MBBS, FCPS', 'department': 'Neurology', 'hospital': 'Liaquat National Hospital', 'clinics': [{'clinic_name': 'Neurology Specialized Clinic', 'location': 'Nazimabad', 'contact': '021-36615855', 'timings': [{'day': 'Thu', 'shift': 'Evening', 'timing': '05:00 pm  to  06:30 pm'}]}]}, {'name': 'Dr. Hazim M. Yousuf Brohi', 'qualifications': 'MBBS, FCPS', 'department': 'Neurology', 'hospital': 'Liaquat National Hospital', 'clinics': [{'clinic_name': 'Neurology Specialized Clinic', 'location': 'Nazimabad', 'contact': '021-36615855', 'timings': [{'day': 'Thu', 'shift': 'Evening', 'timing': '05:00 pm  to  06:30 pm'}]}]}, {'name': 'Dr. Naveed Uddin Ahmed', 'qualifications': 'MBBS, FCPS', 'department': 'Neurology', 'hospital': 'Liaquat National Hospital', 'clinics': [{'clinic_name': 'Neurology Specialized Clinic', 'location': 'Nazimabad', 'contact': '021-36615855', 'timings': [{'day': 'Thu', 'shift': 'Evening', 'timing': '05:00 pm  to  06:30 pm'}]}]}, {'name': 'Dr. Rajesh Kumar', 'qualifications': 'MBBS, FCPS', 'department': 'Neurology', 'hospital': 'Liaquat National Hospital', 'clinics': [{'clinic_name': 'Neurology Specialized Clinic', 'location': 'Nazimabad', 'contact': '021-36615855', 'timings': [{'day': 'Thu', 'shift': 'Evening', 'timing': '05:00 pm  to  06:30 pm'}]}]}, {'name': 'Dr. Saba Zaidi', 'qualifications': 'MBBS, FCPS', 'department': 'Neurology', 'hospital': 'Liaquat National Hospital', 'clinics': [{'clinic_name': 'Neurology Specialized Clinic', 'location': 'Nazimabad', 'contact': '021-36615855', 'timings': [{'day': 'Thu', 'shift': 'Evening', 'timing': '05:00 pm  to  06:30 pm'}]}]}, {'name': 'Dr. Syed Ahmed Asif', 'qualifications': 'MBBS, FCPS', 'department': 'Neurology', 'hospital': 'Liaquat National Hospital', 'clinics': [{'clinic_name': 'Neurology Specialized Clinic', 'location': 'Nazimabad', 'contact': '021-36615855', 'timings': [{'day': 'Thu', 'shift': 'Evening', 'timing': '05:00 pm  to  06:30 pm'}]}]}]\n",
      "{'name': 'Dr. Hina Yousuf', 'qualifications': 'FCPS', 'department': 'Paediatric Surgery', 'hospital': 'Liaquat National Hospital', 'clinics': [{'clinic_name': 'Paediatrics Urology And Nephrology Clinic', 'location': 'Liaquat National Hospital', 'contact': '02134412474, 02134413036', 'timings': [{'day': 'Mon', 'shift': 'Morning', 'timing': '11:30 am  to  02:00 pm'}, {'day': 'Thu', 'shift': 'Morning', 'timing': '11:30 am  to  02:00 pm'}, {'day': 'Fri', 'shift': 'Afternoon', 'timing': '02:00 pm  to  04:30 pm'}, {'day': 'Sat', 'shift': 'Afternoon', 'timing': '02:00 pm  to  04:29 pm'}, {'day': 'Fri', 'shift': 'Morning', 'timing': '10:00 am  to  01:00 pm'}]}, {'clinic_name': 'Paediatrics Stone Management Clinic', 'location': 'Liaquat National Hospital', 'contact': '02134413199', 'timings': [{'day': 'Wed', 'shift': 'Evening', 'timing': '04:30 pm  to  06:00 pm'}, {'day': 'Sat', 'shift': 'Evening', 'timing': '04:30 pm  to  06:00 pm'}]}]}\n",
      "{'name': 'Prof. Dr. Muhammad Arshad', 'qualifications': 'FCPS', 'department': 'Paediatric Surgery', 'hospital': 'Liaquat National Hospital', 'clinics': [{'clinic_name': 'Paediatrics Urology And Nephrology Clinic', 'location': 'Liaquat National Hospital', 'contact': '02134412474, 02134413036', 'timings': [{'day': 'Mon', 'shift': 'Morning', 'timing': '11:30 am  to  02:00 pm'}, {'day': 'Thu', 'shift': 'Morning', 'timing': '11:30 am  to  02:00 pm'}, {'day': 'Fri', 'shift': 'Afternoon', 'timing': '02:00 pm  to  04:30 pm'}, {'day': 'Sat', 'shift': 'Afternoon', 'timing': '02:00 pm  to  04:29 pm'}, {'day': 'Fri', 'shift': 'Morning', 'timing': '10:00 am  to  01:00 pm'}]}, {'clinic_name': 'Paediatrics Stone Management Clinic', 'location': 'Liaquat National Hospital', 'contact': '02134413199', 'timings': [{'day': 'Wed', 'shift': 'Evening', 'timing': '04:30 pm  to  06:00 pm'}, {'day': 'Sat', 'shift': 'Evening', 'timing': '04:30 pm  to  06:00 pm'}]}]}\n",
      "{'name': 'Prof. Dr. Shabbir Hussain', 'qualifications': 'FCPS', 'department': 'Paediatric Surgery', 'hospital': 'Liaquat National Hospital', 'clinics': [{'clinic_name': 'Paediatrics Urology And Nephrology Clinic', 'location': 'Liaquat National Hospital', 'contact': '02134412474, 02134413036', 'timings': [{'day': 'Mon', 'shift': 'Morning', 'timing': '11:30 am  to  02:00 pm'}, {'day': 'Thu', 'shift': 'Morning', 'timing': '11:30 am  to  02:00 pm'}, {'day': 'Fri', 'shift': 'Afternoon', 'timing': '02:00 pm  to  04:30 pm'}, {'day': 'Sat', 'shift': 'Afternoon', 'timing': '02:00 pm  to  04:29 pm'}, {'day': 'Fri', 'shift': 'Morning', 'timing': '10:00 am  to  01:00 pm'}]}, {'clinic_name': 'Paediatrics Stone Management Clinic', 'location': 'Liaquat National Hospital', 'contact': '02134413199', 'timings': [{'day': 'Wed', 'shift': 'Evening', 'timing': '04:30 pm  to  06:00 pm'}, {'day': 'Sat', 'shift': 'Evening', 'timing': '04:30 pm  to  06:00 pm'}]}]}\n",
      "{'name': 'Dr. Feroza Saleem', 'qualifications': 'MBBS, FCPS', 'department': 'Neurology', 'hospital': 'Liaquat National Hospital', 'clinics': [{'clinic_name': 'Neurology Specialized Clinic', 'location': 'Nazimabad', 'contact': '021-36615855', 'timings': [{'day': 'Thu', 'shift': 'Evening', 'timing': '05:00 pm  to  06:30 pm'}]}]}\n",
      "{'name': 'Dr. Hazim M. Yousuf Brohi', 'qualifications': 'MBBS, FCPS', 'department': 'Neurology', 'hospital': 'Liaquat National Hospital', 'clinics': [{'clinic_name': 'Neurology Specialized Clinic', 'location': 'Nazimabad', 'contact': '021-36615855', 'timings': [{'day': 'Thu', 'shift': 'Evening', 'timing': '05:00 pm  to  06:30 pm'}]}]}\n",
      "{'name': 'Dr. Naveed Uddin Ahmed', 'qualifications': 'MBBS, FCPS', 'department': 'Neurology', 'hospital': 'Liaquat National Hospital', 'clinics': [{'clinic_name': 'Neurology Specialized Clinic', 'location': 'Nazimabad', 'contact': '021-36615855', 'timings': [{'day': 'Thu', 'shift': 'Evening', 'timing': '05:00 pm  to  06:30 pm'}]}]}\n",
      "{'name': 'Dr. Rajesh Kumar', 'qualifications': 'MBBS, FCPS', 'department': 'Neurology', 'hospital': 'Liaquat National Hospital', 'clinics': [{'clinic_name': 'Neurology Specialized Clinic', 'location': 'Nazimabad', 'contact': '021-36615855', 'timings': [{'day': 'Thu', 'shift': 'Evening', 'timing': '05:00 pm  to  06:30 pm'}]}]}\n",
      "{'name': 'Dr. Saba Zaidi', 'qualifications': 'MBBS, FCPS', 'department': 'Neurology', 'hospital': 'Liaquat National Hospital', 'clinics': [{'clinic_name': 'Neurology Specialized Clinic', 'location': 'Nazimabad', 'contact': '021-36615855', 'timings': [{'day': 'Thu', 'shift': 'Evening', 'timing': '05:00 pm  to  06:30 pm'}]}]}\n",
      "{'name': 'Dr. Syed Ahmed Asif', 'qualifications': 'MBBS, FCPS', 'department': 'Neurology', 'hospital': 'Liaquat National Hospital', 'clinics': [{'clinic_name': 'Neurology Specialized Clinic', 'location': 'Nazimabad', 'contact': '021-36615855', 'timings': [{'day': 'Thu', 'shift': 'Evening', 'timing': '05:00 pm  to  06:30 pm'}]}]}\n"
     ]
    }
   ],
   "source": [
    "import requests\n",
    "from bs4 import BeautifulSoup\n",
    "import json\n",
    "\n",
    "\n",
    "# Send a request to the page and get the HTML content\n",
    "def extract_data(url):\n",
    "    response = requests.get(url)\n",
    "    soup = BeautifulSoup(response.content, 'html.parser')\n",
    "    doctor_details = []\n",
    "    doctors_list = soup.find_all('div',class_='mydrbox')\n",
    "    for doctor in doctors_list:\n",
    "        # for name \n",
    "        name_tag = doctor.find('h5', class_='name')\n",
    "        name = name_tag.text.strip() if name_tag else 'N/A'\n",
    "\n",
    "        # for positionn and department \n",
    "\n",
    "        p_tag = doctor.find('p', class_='font-14 font-weight-500')\n",
    "\n",
    "        position = p_tag.contents[0].strip()\n",
    "        department = p_tag.contents[-1].strip()\n",
    "\n",
    "        profile_link = soup.find('a', class_='btn')['href']\n",
    "\n",
    "        doctor_url = 'https://www.lnh.edu.pk' + profile_link\n",
    "        doctor_response = requests.get(doctor_url)\n",
    "        \n",
    "        doctor_soup = BeautifulSoup(doctor_response.content, 'html.parser')\n",
    "\n",
    "        qualifications_tag = doctor_soup.find('h5', class_='text-theme-colored')\n",
    "        qualifications = qualifications_tag.text.strip() if qualifications_tag else 'N/A'\n",
    "\n",
    "\n",
    "        clinics = []\n",
    "        panels = doctor_soup.find_all('div', class_='panel')\n",
    "        for panel in panels:\n",
    "            clinic_name_tag = panel.find('div', class_='panel-title')\n",
    "            clinic_name = clinic_name_tag.text.strip() if clinic_name_tag else 'N/A'\n",
    "            \n",
    "            location_tag = panel.find('span', class_='font-weight-700')\n",
    "            location = location_tag.find_next_sibling('span').text.strip() if location_tag else 'N/A'\n",
    "            \n",
    "            contact_tag = panel.find('span', text='Contact:')\n",
    "            contact = contact_tag.find_next_sibling('span').text.strip() if contact_tag else 'N/A'\n",
    "            \n",
    "            timings = []\n",
    "            rows = panel.find_all('tr')\n",
    "            for row in rows:\n",
    "                cols = row.find_all('td')\n",
    "                if len(cols) >= 3:\n",
    "                    day = cols[0].text.strip()\n",
    "                    shift = cols[1].text.strip()\n",
    "                    timing = cols[2].text.strip()\n",
    "                    timings.append({'day': day, 'shift': shift, 'timing': timing})\n",
    "            \n",
    "            clinics.append({\n",
    "                'clinic_name': clinic_name,\n",
    "                'location': location,\n",
    "                'contact': contact,\n",
    "                'timings': timings\n",
    "            })\n",
    "        \n",
    "        doctor_details.append({\n",
    "            'name': name,\n",
    "            'qualifications': qualifications,\n",
    "            'department': department,\n",
    "            'hospital': 'Liaquat National Hospital',\n",
    "            'clinics': clinics\n",
    "        })\n",
    "\n",
    "    return doctor_details   \n",
    "doctor_details = []\n",
    "# Save the data to a JSON file\n",
    "with open(\"liaquat-national-hospital.txt\", \"r\") as fs:\n",
    "    urls = [line.strip() for line in fs.readlines()]\n",
    "\n",
    "\n",
    "\n",
    "\n",
    "for url in urls:\n",
    "    doctor_details.extend(extract_data(url))\n",
    "print(doctor_details)\n",
    "\n",
    "# # Save the data to a JSON file\n",
    "with open('outputs/liaquat-national-hospital.json.json', 'w') as file:\n",
    "    json.dump(doctor_details, file, indent=4)\n",
    "\n",
    "# # Print the extracted data\n",
    "for doctor in doctor_details:\n",
    "    print(doctor)\n"
   ]
  },
  {
   "cell_type": "code",
   "execution_count": 9,
   "metadata": {},
   "outputs": [],
   "source": [
    "with open('outputs/liaquat-national-hospital.json', 'w') as file:\n",
    "    json.dump(doctor_details, file, indent=4)\n"
   ]
  }
 ],
 "metadata": {
  "kernelspec": {
   "display_name": "Python 3",
   "language": "python",
   "name": "python3"
  },
  "language_info": {
   "codemirror_mode": {
    "name": "ipython",
    "version": 3
   },
   "file_extension": ".py",
   "mimetype": "text/x-python",
   "name": "python",
   "nbconvert_exporter": "python",
   "pygments_lexer": "ipython3",
   "version": "3.11.9"
  }
 },
 "nbformat": 4,
 "nbformat_minor": 2
}
