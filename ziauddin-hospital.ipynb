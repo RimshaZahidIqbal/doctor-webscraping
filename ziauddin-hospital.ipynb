{
 "cells": [
  {
   "cell_type": "markdown",
   "metadata": {},
   "source": [
    "# Got data from the follwoing link \n",
    "\n",
    "https://screen.ziauddinhospital.com/newzh/frontend/web/index.php?r=apinew/apinew/doctorsinfo\n"
   ]
  }
 ],
 "metadata": {
  "language_info": {
   "name": "python"
  }
 },
 "nbformat": 4,
 "nbformat_minor": 2
}
