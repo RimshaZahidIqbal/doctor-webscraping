{
 "cells": [
  {
   "cell_type": "code",
   "execution_count": 37,
   "metadata": {},
   "outputs": [
    {
     "name": "stdout",
     "output_type": "stream",
     "text": [
      "Defaulting to user installation because normal site-packages is not writeable\n",
      "Requirement already satisfied: beautifulsoup4 in /home/rimsha/.local/lib/python3.10/site-packages (4.12.3)\n",
      "Requirement already satisfied: requests in /usr/lib/python3/dist-packages (2.25.1)\n",
      "\u001b[31mERROR: Could not find a version that satisfies the requirement json (from versions: none)\u001b[0m\u001b[31m\n",
      "\u001b[0m\u001b[31mERROR: No matching distribution found for json\u001b[0m\u001b[31m\n",
      "\u001b[0mNote: you may need to restart the kernel to use updated packages.\n"
     ]
    }
   ],
   "source": [
    "pip install beautifulsoup4 requests "
   ]
  },
  {
   "cell_type": "code",
   "execution_count": 45,
   "metadata": {},
   "outputs": [],
   "source": [
    "def read_urls_from_file(file_path):\n",
    "    with open(file_path, 'r') as file:\n",
    "        urls = [line.strip() for line in file.readlines()]\n",
    "    return urls\n"
   ]
  },
  {
   "cell_type": "code",
   "execution_count": 46,
   "metadata": {},
   "outputs": [],
   "source": [
    "import requests\n",
    "from bs4 import BeautifulSoup\n",
    "import json\n",
    "\n",
    "\n",
    "def fetch_doctor_data(urls):\n",
    "    response = requests.get(url)\n",
    "    soup = BeautifulSoup(response.content, 'html.parser')\n",
    "    return soup\n",
    "\n",
    "file_path = 'links.txt'\n",
    "urls = read_urls_from_file(file_path)\n",
    "all_doctors_info = []\n",
    "\n",
    "for url in urls:\n",
    "    soup = fetch_doctor_data(url)\n",
    "    \n",
    "    doctor_info = extract_doctor_info(soup)\n",
    "    all_doctors_info.append(doctor_info)\n",
    "    \n",
    "with open('doctors_info.json', 'w') as json_file:\n",
    "        json.dump(all_doctors_info, json_file, indent=4)"
   ]
  },
  {
   "cell_type": "code",
   "execution_count": 41,
   "metadata": {},
   "outputs": [],
   "source": [
    "\n",
    "def extract_doctor_info(soup):\n",
    "    doctor_info = {}\n",
    "    doctor_info['name'] = soup.find('span', id=\"ctl00_ctl57_g_399b26d5_c562_4f96_905e_131fb1e5ceb2_ctl00_lblname\")\n",
    "    doctor_info['qualification'] = soup.find('span', id=\"ctl00_ctl57_g_399b26d5_c562_4f96_905e_131fb1e5ceb2_ctl00_qualification\")\n",
    "    doctor_info['designation'] = soup.find('span', id=\"ctl00_ctl57_g_399b26d5_c562_4f96_905e_131fb1e5ceb2_ctl00_lblacedamictitle\")\n",
    "    doctor_info['department'] = soup.find('span', id=\"ctl00_ctl57_g_399b26d5_c562_4f96_905e_131fb1e5ceb2_ctl00_lbldepart\")\n",
    "    doctor_info['speciality'] = soup.find('div', class_=\"col-3 col-md-3\")\n",
    "    doctor_info['conditions_treated'] = soup.find('div', id=\"ctl00_ctl57_g_399b26d5_c562_4f96_905e_131fb1e5ceb2_ctl00_trtranningandcertificate\")\n",
    "    doctor_info['procedures_performed'] = soup.find('div', id=\"ctl00_ctl57_g_399b26d5_c562_4f96_905e_131fb1e5ceb2_ctl00_trProfessionalexperience\")\n",
    "    doctor_info['education_and_training'] = soup.find('div', id=\"ctl00_ctl57_g_399b26d5_c562_4f96_905e_131fb1e5ceb2_ctl00_profilesection\")\n",
    "    doctor_info['honors_and_awards'] = soup.find('div', id=\"ctl00_ctl57_g_399b26d5_c562_4f96_905e_131fb1e5ceb2_ctl00_trawardsandowners\")\n",
    "\n",
    "    return doctor_info\n",
    "\n",
    "doctor_info = extract_doctor_info(soup)"
   ]
  },
  {
   "cell_type": "code",
   "execution_count": null,
   "metadata": {},
   "outputs": [],
   "source": [
    "def extract_doctor_link(soup):\n",
    "    "
   ]
  },
  {
   "cell_type": "code",
   "execution_count": 15,
   "metadata": {},
   "outputs": [
    {
     "ename": "AttributeError",
     "evalue": "'NoneType' object has no attribute 'text'",
     "output_type": "error",
     "traceback": [
      "\u001b[0;31m---------------------------------------------------------------------------\u001b[0m",
      "\u001b[0;31mAttributeError\u001b[0m                            Traceback (most recent call last)",
      "Cell \u001b[0;32mIn[15], line 17\u001b[0m\n\u001b[1;32m     14\u001b[0m         json\u001b[38;5;241m.\u001b[39mdump(all_doctors_info, json_file, indent\u001b[38;5;241m=\u001b[39m\u001b[38;5;241m4\u001b[39m)\n\u001b[1;32m     16\u001b[0m \u001b[38;5;28;01mif\u001b[39;00m \u001b[38;5;18m__name__\u001b[39m \u001b[38;5;241m==\u001b[39m \u001b[38;5;124m\"\u001b[39m\u001b[38;5;124m__main__\u001b[39m\u001b[38;5;124m\"\u001b[39m:\n\u001b[0;32m---> 17\u001b[0m     \u001b[43mmain\u001b[49m\u001b[43m(\u001b[49m\u001b[43m)\u001b[49m\n",
      "Cell \u001b[0;32mIn[15], line 10\u001b[0m, in \u001b[0;36mmain\u001b[0;34m()\u001b[0m\n\u001b[1;32m      8\u001b[0m \u001b[38;5;28;01mfor\u001b[39;00m url \u001b[38;5;129;01min\u001b[39;00m urls:\n\u001b[1;32m      9\u001b[0m     soup \u001b[38;5;241m=\u001b[39m fetch_doctor_data(url)\n\u001b[0;32m---> 10\u001b[0m     doctor_info \u001b[38;5;241m=\u001b[39m \u001b[43mextract_doctor_info\u001b[49m\u001b[43m(\u001b[49m\u001b[43msoup\u001b[49m\u001b[43m)\u001b[49m\n\u001b[1;32m     11\u001b[0m     all_doctors_info\u001b[38;5;241m.\u001b[39mappend(doctor_info)\n\u001b[1;32m     13\u001b[0m \u001b[38;5;28;01mwith\u001b[39;00m \u001b[38;5;28mopen\u001b[39m(\u001b[38;5;124m'\u001b[39m\u001b[38;5;124mdoctors_info.json\u001b[39m\u001b[38;5;124m'\u001b[39m, \u001b[38;5;124m'\u001b[39m\u001b[38;5;124mw\u001b[39m\u001b[38;5;124m'\u001b[39m) \u001b[38;5;28;01mas\u001b[39;00m json_file:\n",
      "Cell \u001b[0;32mIn[14], line 3\u001b[0m, in \u001b[0;36mextract_doctor_info\u001b[0;34m(soup)\u001b[0m\n\u001b[1;32m      1\u001b[0m \u001b[38;5;28;01mdef\u001b[39;00m \u001b[38;5;21mextract_doctor_info\u001b[39m(soup):\n\u001b[1;32m      2\u001b[0m     doctor_info \u001b[38;5;241m=\u001b[39m {}\n\u001b[0;32m----> 3\u001b[0m     doctor_info[\u001b[38;5;124m'\u001b[39m\u001b[38;5;124mname\u001b[39m\u001b[38;5;124m'\u001b[39m] \u001b[38;5;241m=\u001b[39m \u001b[43msoup\u001b[49m\u001b[38;5;241;43m.\u001b[39;49m\u001b[43mfind\u001b[49m\u001b[43m(\u001b[49m\u001b[38;5;124;43m'\u001b[39;49m\u001b[38;5;124;43mspan\u001b[39;49m\u001b[38;5;124;43m'\u001b[39;49m\u001b[43m,\u001b[49m\u001b[43m \u001b[49m\u001b[38;5;28;43mid\u001b[39;49m\u001b[38;5;241;43m=\u001b[39;49m\u001b[38;5;124;43m\"\u001b[39;49m\u001b[38;5;124;43mctl00_ctl57_g_399b26d5_c562_4f96_905e_131fb1e5ceb2_ctl00_lblname\u001b[39;49m\u001b[38;5;124;43m\"\u001b[39;49m\u001b[43m)\u001b[49m\u001b[38;5;241;43m.\u001b[39;49m\u001b[43mtext\u001b[49m\n\u001b[1;32m      4\u001b[0m     doctor_info[\u001b[38;5;124m'\u001b[39m\u001b[38;5;124mqualification\u001b[39m\u001b[38;5;124m'\u001b[39m] \u001b[38;5;241m=\u001b[39m soup\u001b[38;5;241m.\u001b[39mfind(\u001b[38;5;124m'\u001b[39m\u001b[38;5;124mspan\u001b[39m\u001b[38;5;124m'\u001b[39m, \u001b[38;5;28mid\u001b[39m\u001b[38;5;241m=\u001b[39m\u001b[38;5;124m\"\u001b[39m\u001b[38;5;124mctl00_ctl57_g_399b26d5_c562_4f96_905e_131fb1e5ceb2_ctl00_qualification\u001b[39m\u001b[38;5;124m\"\u001b[39m)\u001b[38;5;241m.\u001b[39mtext\n\u001b[1;32m      5\u001b[0m     doctor_info[\u001b[38;5;124m'\u001b[39m\u001b[38;5;124mdesignation\u001b[39m\u001b[38;5;124m'\u001b[39m] \u001b[38;5;241m=\u001b[39m soup\u001b[38;5;241m.\u001b[39mfind(\u001b[38;5;124m'\u001b[39m\u001b[38;5;124mspan\u001b[39m\u001b[38;5;124m'\u001b[39m, \u001b[38;5;28mid\u001b[39m\u001b[38;5;241m=\u001b[39m\u001b[38;5;124m\"\u001b[39m\u001b[38;5;124mctl00_ctl57_g_399b26d5_c562_4f96_905e_131fb1e5ceb2_ctl00_lblacedamictitle\u001b[39m\u001b[38;5;124m\"\u001b[39m)\u001b[38;5;241m.\u001b[39mtext\n",
      "\u001b[0;31mAttributeError\u001b[0m: 'NoneType' object has no attribute 'text'"
     ]
    }
   ],
   "source": [
    "\n",
    "import json\n",
    "\n",
    "def main():\n",
    "    file_path = 'links.txt'\n",
    "    urls = read_urls_from_file(file_path)\n",
    "    all_doctors_info = []\n",
    "\n",
    "    for url in urls:\n",
    "        soup = fetch_doctor_data(url)\n",
    "        doctor_info = extract_doctor_info(soup)\n",
    "        all_doctors_info.append(doctor_info)\n",
    "    \n",
    "    with open('doctors_info.json', 'w') as json_file:\n",
    "        json.dump(all_doctors_info, json_file, indent=4)\n",
    "\n",
    "if __name__ == \"__main__\":\n",
    "    main()\n"
   ]
  },
  {
   "cell_type": "code",
   "execution_count": 10,
   "metadata": {},
   "outputs": [
    {
     "name": "stdout",
     "output_type": "stream",
     "text": [
      "\u001b[33mWARNING: Package(s) not found: json\u001b[0m\u001b[33m\n",
      "\u001b[0mNote: you may need to restart the kernel to use updated packages.\n"
     ]
    }
   ],
   "source": [
    "\n"
   ]
  }
 ],
 "metadata": {
  "kernelspec": {
   "display_name": "Python 3",
   "language": "python",
   "name": "python3"
  },
  "language_info": {
   "codemirror_mode": {
    "name": "ipython",
    "version": 3
   },
   "file_extension": ".py",
   "mimetype": "text/x-python",
   "name": "python",
   "nbconvert_exporter": "python",
   "pygments_lexer": "ipython3",
   "version": "3.10.12"
  }
 },
 "nbformat": 4,
 "nbformat_minor": 2
}
