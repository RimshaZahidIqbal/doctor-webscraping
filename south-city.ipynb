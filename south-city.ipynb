{
 "cells": [
  {
   "cell_type": "code",
   "execution_count": null,
   "metadata": {},
   "outputs": [],
   "source": [
    "from bs4 import BeautifulSoup\n",
    "import requests\n",
    "import json\n",
    "import os \n",
    "\n",
    "url = ''\n",
    "# Send a request to the URL\n",
    "response = requests.get(url)\n",
    "soup = BeautifulSoup(response.text, 'html.parser')\n",
    "\n",
    "# Find all doctor sections\n",
    "\n",
    "doctor_sections = soup.find_all('div', class_='et_pb_team_member')\n",
    "x\n",
    "hospital_name = \"South City Hospital\"\n",
    "# Extract information\n",
    "doctors = []\n",
    "for section in doctor_sections:\n",
    "    name = section.find('h4', class_='et_pb_module_header').text.strip()\n",
    "    speciality = section.find_all('strong')[0].find_next_sibling(text=True).strip()\n",
    "    education = section.find_all('strong')[1].find_next_sibling(text=True).strip()\n",
    "    work_days = section.find_all('strong')[2].find_next_sibling(text=True).strip()\n",
    "    image_url = section.find('img')['src']\n",
    "\n",
    "    doctor_info = {\n",
    "        'name': name,\n",
    "        'speciality': speciality,\n",
    "        'education': education,\n",
    "        'work_days': work_days,\n",
    "        'image': image_url,\n",
    "        'hospital': hospital_name\n",
    "    }\n",
    "    doctors.append(doctor_info)\n",
    "\n",
    "doctor_info = 'doctors_info.json'\n",
    "\n",
    "# save i json format \n",
    "if os.path.exists(doctor_info):\n",
    "    with open(doctor_info, 'r') as json_file:\n",
    "        existing_data = json.load(json_file)\n",
    "else:\n",
    "    existing_data = []\n",
    "\n",
    "# Append new data to existing data\n",
    "existing_data.extend(doctors)\n",
    "\n",
    "# Write updated data to the JSON file\n",
    "with open(doctor_info, 'w') as json_file:\n",
    "    json.dump(existing_data, json_file, indent=4)\n",
    "# Print extracted information\n"
   ]
  }
 ],
 "metadata": {
  "language_info": {
   "name": "python"
  }
 },
 "nbformat": 4,
 "nbformat_minor": 2
}
