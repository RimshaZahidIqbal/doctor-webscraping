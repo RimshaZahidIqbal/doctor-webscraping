{
 "cells": [
  {
   "cell_type": "markdown",
   "metadata": {},
   "source": [
    "# This file contains code to get all the  liks of doctors"
   ]
  },
  {
   "cell_type": "code",
   "execution_count": 1,
   "metadata": {},
   "outputs": [
    {
     "name": "stdout",
     "output_type": "stream",
     "text": [
      "Links for child-psychologist saved to child-psychologist/child-psychologist.txt\n",
      "Links for pediatrician saved to pediatrician/pediatrician.txt\n",
      "Links for psychiatrist saved to psychiatrist/psychiatrist.txt\n",
      "Links for psychologist saved to psychologist/psychologist.txt\n",
      "Links for physiotherapist saved to physiotherapist/physiotherapist.txt\n",
      "Links for neurologist saved to neurologist/neurologist.txt\n",
      "Links for pediatric-neurosurgeon saved to pediatric-neurosurgeon/pediatric-neurosurgeon.txt\n",
      "Links for neurodevelopmental-behavioural-pediatrician saved to neurodevelopmental-behavioural-pediatrician/neurodevelopmental-behavioural-pediatrician.txt\n",
      "Links for neuro-psychiatrist saved to neuro-psychiatrist/neuro-psychiatrist.txt\n"
     ]
    }
   ],
   "source": [
    "import os\n",
    "import requests\n",
    "from bs4 import BeautifulSoup\n",
    "\n",
    "# List of specialties with their ID and folder path\n",
    "specialities = [\n",
    "    {\"id\": \"speciality_146\", \"folder\": \"child-psychologist\"},\n",
    "    {\"id\": \"speciality_29\", \"folder\": \"pediatrician\"},\n",
    "    {\"id\": \"speciality_9\", \"folder\": \"psychiatrist\"},\n",
    "    {\"id\": \"speciality_54\", \"folder\": \"psychologist\"},\n",
    "    {\"id\": \"speciality_131\", \"folder\": \"physiotherapist\"},\n",
    "    {\"id\": \"speciality_37\", \"folder\": \"neurologist\"},\n",
    "    {\"id\": \"speciality_196\", \"folder\": \"pediatric-neurosurgeon\"},\n",
    "    {\"id\": \"speciality_155\", \"folder\": \"neurodevelopmental-behavioural-pediatrician\"},\n",
    "    {\"id\": \"speciality_116\", \"folder\": \"neuro-psychiatrist\"},\n",
    "]\n",
    "\n",
    "# URL of the page you want to scrape\n",
    "url = \"https://www.marham.pk/doctors\"\n",
    "\n",
    "# Function to fetch and parse the webpage\n",
    "def get_speciality_links(url, speciality):\n",
    "    response = requests.get(url)\n",
    "    soup = BeautifulSoup(response.text, 'html.parser')\n",
    "\n",
    "    # Find the div with the specific id\n",
    "    speciality_div = soup.find('div', id=speciality['id'])\n",
    "    \n",
    "    if speciality_div:\n",
    "        # Use the folder name provided\n",
    "        folder_name = speciality['folder']\n",
    "\n",
    "        # Create the directory if it doesn't exist\n",
    "        if not os.path.exists(folder_name):\n",
    "            os.makedirs(folder_name)\n",
    "\n",
    "        # Find all <a> tags inside the div and extract the hrefs\n",
    "        links = []\n",
    "        for a_tag in speciality_div.find_all('a', href=True):\n",
    "            links.append(a_tag['href'])\n",
    "\n",
    "        # Save the links to a text file in the folder\n",
    "        file_path = os.path.join(folder_name, f\"{folder_name}.txt\")\n",
    "        with open(file_path, 'w') as file:\n",
    "            for link in links:\n",
    "                file.write(f\"{link}\\n\")\n",
    "        \n",
    "        print(f\"Links for {folder_name} saved to {file_path}\")\n",
    "    else:\n",
    "        print(f\"No div with id {speciality['id']} found\")\n",
    "\n",
    "# Iterate over the list of specialties\n",
    "for speciality in specialities:\n",
    "    get_speciality_links(url, speciality)\n"
   ]
  }
 ],
 "metadata": {
  "kernelspec": {
   "display_name": "env",
   "language": "python",
   "name": "python3"
  },
  "language_info": {
   "codemirror_mode": {
    "name": "ipython",
    "version": 3
   },
   "file_extension": ".py",
   "mimetype": "text/x-python",
   "name": "python",
   "nbconvert_exporter": "python",
   "pygments_lexer": "ipython3",
   "version": "3.11.9"
  }
 },
 "nbformat": 4,
 "nbformat_minor": 2
}
