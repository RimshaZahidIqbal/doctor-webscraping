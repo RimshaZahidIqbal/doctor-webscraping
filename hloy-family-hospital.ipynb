{
 "cells": [
  {
   "cell_type": "code",
   "execution_count": 3,
   "metadata": {},
   "outputs": [
    {
     "name": "stdout",
     "output_type": "stream",
     "text": [
      "[{'name': 'DR AJAY KUMAR NANKANI', 'qualifications': ['MBBS,FCPS(Psych)', 'Consultant Psychiatrist'], 'timings': ['FRIDAY', '03:00 P.M.'], 'hospital': 'Holy Family Hospital'}, {'name': 'DR.MEHWISH BUTT (NEURO PHY)', 'qualifications': ['FCPS'], 'timings': ['THURSDAY', '4:00 PM'], 'hospital': 'Holy Family Hospital'}, {'name': 'DR.SURESH KUMAR', 'qualifications': ['FCPS'], 'timings': ['MONDAY & WEDNESDAY', '05:00 TO 06:00 PM'], 'hospital': 'Holy Family Hospital'}, {'name': 'DR.SOBIA TABBASUM', 'qualifications': ['FCPS,MCPS,PCH'], 'timings': ['MON,FRI &SATURDAY', '1:00 PM TO 02:30 PM'], 'hospital': 'Holy Family Hospital'}, {'name': 'DR.RUKHSANA TARIQ', 'qualifications': ['MBBS,MCPS', 'Child Specialist'], 'timings': ['MONDAY TO SATURDAY', '(FRIDAY OFF)', '09:30 A.M. TO 11:30 A.M'], 'hospital': 'Holy Family Hospital'}, {'name': 'DR.GULAB RAI', 'qualifications': ['MCPS,PGPN'], 'timings': ['MONDAY TO FRIDAY', '05:00 P.M. TO 06:00 P.M'], 'hospital': 'Holy Family Hospital'}, {'name': 'DR. VARSHA RANI RAI', 'qualifications': ['MBBS,MCPS', 'Child Specialist'], 'timings': ['TUESDAY, WED & THUR', '02:30 PM TO 03:30 PM'], 'hospital': 'Holy Family Hospital'}, {'name': 'DR.M.A. GOWA', 'qualifications': ['MBBS,FCPS,(Peads Medicine)', 'Assistant Professor  Consultant Pediatrician'], 'timings': ['MONDAY TO FRIDAY', '04:00 P.M. TO 08:00 P.M'], 'hospital': 'Holy Family Hospital'}]\n"
     ]
    }
   ],
   "source": [
    "import requests\n",
    "from bs4 import BeautifulSoup\n",
    "import json\n",
    "\n",
    "def extract_doctor_data(doctor_div):\n",
    "    # Extract image\n",
    "    # image = doctor_div.find('img')['src'].strip()\n",
    "\n",
    "    # Extract name\n",
    "    name = doctor_div.find('h3').text.strip()\n",
    "\n",
    "    # Extract qualifications (may include multiple <h6> tags)\n",
    "    qualifications = [h6.text.strip() for h6 in doctor_div.find_all('h6')]\n",
    "\n",
    "    # Extract timing information\n",
    "    timings = [p.text.strip() for p in doctor_div.find_all('p')]\n",
    "\n",
    "    # Create a dictionary for the doctor's information\n",
    "    doctor_data = {\n",
    "        \"name\": name,\n",
    "        # \"image\": image,\n",
    "        \"qualifications\": qualifications,\n",
    "        \"timings\": timings,\n",
    "        \"hospital\": \"Holy Family Hospital\"  \n",
    "        }\n",
    "    \n",
    "    return doctor_data\n",
    "\n",
    "def extract_data(url):\n",
    "    # Request the main page\n",
    "    response = requests.get(url)\n",
    "    soup = BeautifulSoup(response.text, 'html.parser')\n",
    "\n",
    "    # Find all the doctor divs\n",
    "    doctors = soup.find_all('div', class_='single-doctor')\n",
    "\n",
    "    # Initialize a list to store all doctor data\n",
    "    doctors_data = []\n",
    "\n",
    "    for doctor in doctors:\n",
    "        # Extract data for each doctor\n",
    "        doctor_data = extract_doctor_data(doctor)\n",
    "        doctors_data.append(doctor_data)\n",
    "    \n",
    "    return doctors_data\n",
    "\n",
    "with open(\"hloy-family-hospital.txt\", \"r\") as fs:\n",
    "    urls = fs.readlines()\n",
    "\n",
    "doctors = []\n",
    "\n",
    "for url in urls:\n",
    "    doctors.extend(extract_data(url.strip()))\n",
    "\n",
    "with open(\"outputs/holy-family-hospital.json\", 'w') as json_file:\n",
    "    json.dump(doctors, json_file, indent=4)\n",
    "    print(doctors)\n"
   ]
  }
 ],
 "metadata": {
  "kernelspec": {
   "display_name": "env",
   "language": "python",
   "name": "python3"
  },
  "language_info": {
   "codemirror_mode": {
    "name": "ipython",
    "version": 3
   },
   "file_extension": ".py",
   "mimetype": "text/x-python",
   "name": "python",
   "nbconvert_exporter": "python",
   "pygments_lexer": "ipython3",
   "version": "3.11.9"
  }
 },
 "nbformat": 4,
 "nbformat_minor": 2
}
