{
 "cells": [
  {
   "cell_type": "code",
   "execution_count": 7,
   "metadata": {},
   "outputs": [
    {
     "ename": "AttributeError",
     "evalue": "'NoneType' object has no attribute 'strip'",
     "output_type": "error",
     "traceback": [
      "\u001b[0;31m---------------------------------------------------------------------------\u001b[0m",
      "\u001b[0;31mAttributeError\u001b[0m                            Traceback (most recent call last)",
      "Cell \u001b[0;32mIn[7], line 28\u001b[0m\n\u001b[1;32m     25\u001b[0m doctor_soup \u001b[38;5;241m=\u001b[39m BeautifulSoup(doctor_response\u001b[38;5;241m.\u001b[39mcontent, \u001b[38;5;124m'\u001b[39m\u001b[38;5;124mhtml.parser\u001b[39m\u001b[38;5;124m'\u001b[39m)\n\u001b[1;32m     27\u001b[0m \u001b[38;5;66;03m# Extract relevant doctor details (e.g., name, qualifications, department, timings, etc.)\u001b[39;00m\n\u001b[0;32m---> 28\u001b[0m name \u001b[38;5;241m=\u001b[39m \u001b[43mdoctor_soup\u001b[49m\u001b[38;5;241;43m.\u001b[39;49m\u001b[43mfind\u001b[49m\u001b[43m(\u001b[49m\u001b[38;5;124;43m'\u001b[39;49m\u001b[38;5;124;43mh3\u001b[39;49m\u001b[38;5;124;43m'\u001b[39;49m\u001b[43m)\u001b[49m\u001b[38;5;241;43m.\u001b[39;49m\u001b[43mstrip\u001b[49m()\n\u001b[1;32m     29\u001b[0m qualifications \u001b[38;5;241m=\u001b[39m doctor_soup\u001b[38;5;241m.\u001b[39mfind(\u001b[38;5;124m'\u001b[39m\u001b[38;5;124mh5\u001b[39m\u001b[38;5;124m'\u001b[39m, class_\u001b[38;5;241m=\u001b[39m\u001b[38;5;124m'\u001b[39m\u001b[38;5;124mtext-theme-colored\u001b[39m\u001b[38;5;124m'\u001b[39m)\u001b[38;5;241m.\u001b[39mstrip()\n\u001b[1;32m     30\u001b[0m department \u001b[38;5;241m=\u001b[39m doctor_soup\u001b[38;5;241m.\u001b[39mfind(\u001b[38;5;124m'\u001b[39m\u001b[38;5;124mh5\u001b[39m\u001b[38;5;124m'\u001b[39m, class_\u001b[38;5;241m=\u001b[39m\u001b[38;5;124m'\u001b[39m\u001b[38;5;124mtext-theme-colored\u001b[39m\u001b[38;5;124m'\u001b[39m)\u001b[38;5;241m.\u001b[39mfind_next_sibling(\u001b[38;5;124m'\u001b[39m\u001b[38;5;124mh5\u001b[39m\u001b[38;5;124m'\u001b[39m)\u001b[38;5;241m.\u001b[39mtext\u001b[38;5;241m.\u001b[39mstrip()\n",
      "\u001b[0;31mAttributeError\u001b[0m: 'NoneType' object has no attribute 'strip'"
     ]
    }
   ],
   "source": [
    "import requests\n",
    "from bs4 import BeautifulSoup\n",
    "\n",
    "# Base URL of the website\n",
    "base_url = 'https://www.lnh.edu.pk/Doctors?spe=837cdba4-bf74-4a77-aa22-f7157c1c2cf9'  # Replace with the actual base URL of the site\n",
    "\n",
    "\n",
    "# Send a request to the page and get the HTML content\n",
    "response = requests.get(base_url)\n",
    "soup = BeautifulSoup(response.content, 'html.parser')\n",
    "\n",
    "# # Find all links to doctor detail pages\n",
    "\n",
    "# doctor_links = [a['href'] for a in soup.find_all('a', class_='btn') if 'href' in a.attrs and '/doctors/detail/' in a['href']]\n",
    "\n",
    "# List to store the doctor details\n",
    "doctor_details = []\n",
    "\n",
    "# Loop through each doctor link\n",
    "for link in doctor_links:\n",
    "    # Construct the full URL for the doctor detail page\n",
    "    doctor_url = base_url + link\n",
    "    \n",
    "    # Visit the doctor detail page\n",
    "    doctor_response = requests.get(doctor_url)\n",
    "    doctor_soup = BeautifulSoup(doctor_response.content, 'html.parser')\n",
    "    \n",
    "    # Extract relevant doctor details (e.g., name, qualifications, department, timings, etc.)\n",
    "    name = doctor_soup.find('h3').text.strip()\n",
    "    qualifications = doctor_soup.find('h5', class_='text-theme-colored').strip()\n",
    "    department = doctor_soup.find('h5', class_='text-theme-colored').find_next_sibling('h5').text.strip()\n",
    "    \n",
    "    # Extract clinic details (e.g., location, contact, timings, etc.)\n",
    "    clinics = []\n",
    "    \n",
    "    panels = doctor_soup.find_all('div', class_='panel')\n",
    "    for panel in panels:\n",
    "        clinic_name = panel.find('div', class_='panel-title').text.strip()\n",
    "        location = panel.find('span', class_='font-weight-700').find_next_sibling('span').text.strip()\n",
    "        contact = panel.find('span', text='Contact:').find_next_sibling('span').text.strip()\n",
    "        \n",
    "        timings = []\n",
    "        rows = panel.find_all('tr')\n",
    "        for row in rows:\n",
    "            day = row.find_all('td')[0].text.strip()\n",
    "            shift = row.find_all('td')[1].text.strip()\n",
    "            timing = row.find_all('td')[2].text.strip()\n",
    "            timings.append({'day': day, 'shift': shift, 'timing': timing})\n",
    "        \n",
    "        clinics.append({\n",
    "            'clinic_name': clinic_name,\n",
    "            'location': location,\n",
    "            'contact': contact,\n",
    "            'timings': timings\n",
    "        })\n",
    "    \n",
    "    # Store the extracted details in the doctor_details list\n",
    "    doctor_details.append({\n",
    "        'name': name,\n",
    "        'qualifications': qualifications,\n",
    "        'department': department,\n",
    "        'clinics': clinics\n",
    "    })\n",
    "\n",
    "# Print or save the extracted data\n",
    "for doctor in doctor_details:\n",
    "    print(doctor)\n"
   ]
  },
  {
   "cell_type": "code",
   "execution_count": 11,
   "metadata": {},
   "outputs": [
    {
     "name": "stdout",
     "output_type": "stream",
     "text": [
      "Doctor details saved to doctor_details.json\n"
     ]
    }
   ],
   "source": []
  }
 ],
 "metadata": {
  "kernelspec": {
   "display_name": "Python 3",
   "language": "python",
   "name": "python3"
  },
  "language_info": {
   "codemirror_mode": {
    "name": "ipython",
    "version": 3
   },
   "file_extension": ".py",
   "mimetype": "text/x-python",
   "name": "python",
   "nbconvert_exporter": "python",
   "pygments_lexer": "ipython3",
   "version": "3.10.12"
  }
 },
 "nbformat": 4,
 "nbformat_minor": 2
}
