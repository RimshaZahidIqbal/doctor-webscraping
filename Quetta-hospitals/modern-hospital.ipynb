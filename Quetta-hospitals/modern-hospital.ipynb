{
 "cells": [
  {
   "cell_type": "code",
   "execution_count": 2,
   "metadata": {},
   "outputs": [],
   "source": [
    "from bs4 import BeautifulSoup\n",
    "import requests\n",
    "import json\n",
    "import os \n",
    "\n",
    "# URL of the page to scrape\n",
    "def scrap_data(url, doctors):\n",
    "    response = requests.get(url)\n",
    "    soup = BeautifulSoup(response.text, 'html.parser')\n",
    "\n",
    "    # Find all doctor sections within the div with class 'row tab_pane_bg'\n",
    "    doctor_sections = soup.find_all('div', class_='col-lg-4 col-md-5')\n",
    "\n",
    "    hospital_name = \"Modern Hospital\"  # Update the hospital name accordingly\n",
    "\n",
    "    # Extract information\n",
    "    for section in doctor_sections:\n",
    "        name = section.find('h5').text.strip()\n",
    "        speciality = section.find('span').text.strip()\n",
    "        image_url = section.find('img')['src']\n",
    "\n",
    "        # Create a dictionary for doctor information\n",
    "        doctor_info = {\n",
    "            'name': name,\n",
    "            'speciality': speciality,\n",
    "            'image': image_url,\n",
    "            'hospital': hospital_name\n",
    "        }\n",
    "        doctors.append(doctor_info)\n",
    "    \n",
    "    return doctors\n",
    "\n",
    "\n",
    "\n",
    "with open(\"modern-hosiptal.txt\", \"r\") as fs:\n",
    "\turls = fs.readlines()\n",
    "\n",
    "doctors = []\n",
    "\n",
    "for url in urls:\n",
    "    doctors = scrap_data(url,doctors)\n",
    "\n",
    "output_file_path = '../quetta-doctors/modern-hospital.json'\n",
    "\n",
    "with open(output_file_path, 'w') as json_file:\n",
    "    json.dump(doctors, json_file, indent=4)\n",
    "\n"
   ]
  },
  {
   "cell_type": "code",
   "execution_count": 6,
   "metadata": {},
   "outputs": [
    {
     "name": "stdout",
     "output_type": "stream",
     "text": [
      "Data cleaned and saved successfully!\n"
     ]
    }
   ],
   "source": [
    "import json\n",
    "\n",
    "# Load the JSON file\n",
    "input_file_path = '../quetta-doctors/modern-hospital.json'\n",
    "with open(input_file_path, 'r') as json_file:\n",
    "    doctors = json.load(json_file)\n",
    "\n",
    "# Clean the data\n",
    "for doctor in doctors:\n",
    "    doctor['name'] = doctor['name'].replace('\\r', '').replace('\\n', '').strip()\n",
    "\n",
    "# Save the cleaned data back to the JSON file\n",
    "output_file_path = '../quetta-doctors/modern-hospital.json'\n",
    "with open(output_file_path, 'w') as json_file:\n",
    "    json.dump(doctors, json_file, indent=4)\n",
    "\n",
    "print(\"Data cleaned and saved successfully!\")\n"
   ]
  }
 ],
 "metadata": {
  "kernelspec": {
   "display_name": "env",
   "language": "python",
   "name": "python3"
  },
  "language_info": {
   "codemirror_mode": {
    "name": "ipython",
    "version": 3
   },
   "file_extension": ".py",
   "mimetype": "text/x-python",
   "name": "python",
   "nbconvert_exporter": "python",
   "pygments_lexer": "ipython3",
   "version": "3.11.9"
  }
 },
 "nbformat": 4,
 "nbformat_minor": 2
}
