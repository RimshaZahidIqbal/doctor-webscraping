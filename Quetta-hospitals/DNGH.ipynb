{
 "cells": [
  {
   "cell_type": "code",
   "execution_count": 7,
   "metadata": {},
   "outputs": [
    {
     "name": "stdout",
     "output_type": "stream",
     "text": [
      "[{'name': 'Professor Dr. Najma Ghaffar', 'position': 'GYNECOLOGIST & OBSTETRICIAN', 'hospital': 'DNGH hospital Quetta'}, {'name': 'Dr Zargai', 'position': 'General Medicine', 'hospital': 'DNGH hospital Quetta'}, {'name': 'Dr Sabira', 'position': 'GYNECOLOGIST & OBSTETRICIAN', 'hospital': 'DNGH hospital Quetta'}, {'name': 'Dr Para Shahzad', 'position': 'PEDIATRICIAN', 'hospital': 'DNGH hospital Quetta'}, {'name': 'Dr Elahi Bukhsh', 'position': 'Pathologist', 'hospital': 'DNGH hospital Quetta'}, {'name': 'Dr Abbas', 'position': 'Anesthesiologist', 'hospital': 'DNGH hospital Quetta'}, {'name': 'Dr Bashir', 'position': 'Anesthesiologist', 'hospital': 'DNGH hospital Quetta'}, {'name': 'Dr. Shagufta', 'position': 'NEONATOLOGIST/ PEDIATRICIAN', 'hospital': 'DNGH hospital Quetta'}, {'name': 'Dr Samina', 'position': 'GYNECOLOGIST & OBSTETRICIAN', 'hospital': 'DNGH hospital Quetta'}, {'name': 'Dr Razia', 'position': 'Medical Officer', 'hospital': 'DNGH hospital Quetta'}]\n"
     ]
    }
   ],
   "source": [
    "import requests\n",
    "from bs4 import BeautifulSoup\n",
    "import re\n",
    "import json\n",
    "\n",
    "def extract_data(url):\n",
    "    # Request the main page\n",
    "    response = requests.get(url)\n",
    "    soup = BeautifulSoup(response.text, 'html.parser')\n",
    "\n",
    "    # Find all the doctor articles\n",
    "    doctors = soup.find_all('div', class_='team-info')\n",
    "    # Initialize a list to store all doctor data\n",
    "    doctor_data_list = []\n",
    "\n",
    "    for doctor in doctors:\n",
    "        # Find the doctor information\n",
    "        name = doctor.find('h4').text.strip() if doctor.find('h4') else \"\"\n",
    "        position = doctor.find('p').text.strip() if doctor.find('p') else \"\"\n",
    "        \n",
    "        # Store the data in a dictionary\n",
    "        doctor_data = {\n",
    "            \"name\": name,\n",
    "            \"position\": position,\n",
    "            \"hospital\": \"DNGH hospital Quetta\"\n",
    "        }\n",
    "        \n",
    "        # Add the dictionary to the list\n",
    "        doctor_data_list.append(doctor_data)\n",
    "    \n",
    "    return doctor_data_list\n",
    "\n",
    "url = 'https://www.dnghospital.com/'\n",
    "\n",
    "doctors = extract_data(url)\n",
    "\n",
    "print(doctors)\n",
    "with open(\"../quetta-doctors/DNGH.json\", 'w') as json_file:\n",
    "    json.dump(doctors, json_file, indent=4)\n",
    "\n"
   ]
  }
 ],
 "metadata": {
  "kernelspec": {
   "display_name": "env",
   "language": "python",
   "name": "python3"
  },
  "language_info": {
   "codemirror_mode": {
    "name": "ipython",
    "version": 3
   },
   "file_extension": ".py",
   "mimetype": "text/x-python",
   "name": "python",
   "nbconvert_exporter": "python",
   "pygments_lexer": "ipython3",
   "version": "3.11.9"
  }
 },
 "nbformat": 4,
 "nbformat_minor": 2
}
