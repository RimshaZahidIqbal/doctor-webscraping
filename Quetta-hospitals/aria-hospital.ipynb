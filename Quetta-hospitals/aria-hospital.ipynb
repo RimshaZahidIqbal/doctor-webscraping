{
 "cells": [
  {
   "cell_type": "code",
   "execution_count": 5,
   "metadata": {},
   "outputs": [
    {
     "name": "stdout",
     "output_type": "stream",
     "text": [
      "Scraping department page: https://ariahealth.com.pk/pediatric-department/\n",
      "Scraping doctor profile: https://ariahealth.com.pk/dr-shazia-ali/\n"
     ]
    },
    {
     "name": "stderr",
     "output_type": "stream",
     "text": [
      "/tmp/ipykernel_8067/633038406.py:29: DeprecationWarning: The 'text' argument to find()-type methods is deprecated. Use 'string' instead.\n",
      "  speciality_heading = soup.find('h2', text='Speciality:')\n",
      "/tmp/ipykernel_8067/633038406.py:33: DeprecationWarning: The 'text' argument to find()-type methods is deprecated. Use 'string' instead.\n",
      "  education_heading = soup.find('h2', text='Education:')\n"
     ]
    },
    {
     "name": "stdout",
     "output_type": "stream",
     "text": [
      "Scraping doctor profile: https://ariahealth.com.pk/dr-shazia-ali/\n",
      "Scraping doctor profile: https://ariahealth.com.pk/prof-dr-mushtaq-jaffar/\n",
      "Scraping doctor profile: https://ariahealth.com.pk/prof-dr-mushtaq-jaffar/\n",
      "Scraping doctor profile: https://ariahealth.com.pk/dr-muhammad-ismail/\n",
      "Scraping doctor profile: https://ariahealth.com.pk/dr-muhammad-ismail/\n",
      "Scraping department page: https://ariahealth.com.pk/psychiatry-department/\n",
      "Scraping doctor profile: https://ariahealth.com.pk/dr-mujeeb-ullah/\n",
      "Scraping doctor profile: https://ariahealth.com.pk/dr-mujeeb-ullah/\n",
      "Scraping doctor profile: https://ariahealth.com.pk/dr-muhammad-iiyas/\n",
      "Scraping doctor profile: https://ariahealth.com.pk/dr-muhammad-iiyas/\n",
      "Scraping doctor profile: https://ariahealth.com.pk/dr-silsila-sherzad/\n",
      "Scraping doctor profile: https://ariahealth.com.pk/dr-silsila-sherzad/\n",
      "Scraping department page: https://ariahealth.com.pk/neurology-department/\n",
      "Scraping doctor profile: https://ariahealth.com.pk/dr-qahir-achakzai/\n",
      "Scraping doctor profile: https://ariahealth.com.pk/dr-qahir-achakzai/\n",
      "Scraping doctor profile: https://ariahealth.com.pk/prof-dr-muhammad-saleem-barech/\n",
      "Scraping doctor profile: https://ariahealth.com.pk/prof-dr-muhammad-saleem-barech/\n",
      "Scraping doctor profile: https://ariahealth.com.pk/dr-ahmed-wali/\n",
      "Scraping doctor profile: https://ariahealth.com.pk/dr-ahmed-wali/\n",
      "Scraping completed. Data saved to doctors_data.json\n"
     ]
    }
   ],
   "source": [
    "import requests\n",
    "from bs4 import BeautifulSoup\n",
    "import json\n",
    "\n",
    "# Function to get all doctor profile URLs from a department page\n",
    "def get_doctor_profile_urls(department_url):\n",
    "    response = requests.get(department_url)\n",
    "    soup = BeautifulSoup(response.text, 'html.parser')\n",
    "    \n",
    "    # Find all <a> tags with the doctor profile URLs\n",
    "    doctor_urls = []\n",
    "    for a_tag in soup.find_all('a', href=True):\n",
    "        href = a_tag['href']\n",
    "        if \"/dr-\" in href or \"/prof-\" in href:  # Filtering for doctor URLs based on URL pattern\n",
    "            doctor_urls.append(href)\n",
    "    \n",
    "    return doctor_urls\n",
    "\n",
    "# Function to scrape doctor details from the profile page\n",
    "def scrape_doctor_data(profile_url):\n",
    "    response = requests.get(profile_url)\n",
    "    soup = BeautifulSoup(response.text, 'html.parser')\n",
    "\n",
    "    # Extract doctor name (handle missing elements)\n",
    "    name_tag = soup.find('h2', class_='elementor-heading-title ')\n",
    "    name = name_tag.get_text(strip=True) if name_tag else 'N/A'\n",
    "\n",
    "    # Extract doctor speciality (handle missing elements)\n",
    "    speciality_heading = soup.find('h2', text='Speciality:')\n",
    "    speciality = speciality_heading.find_next('div').get_text(strip=True) if speciality_heading else 'N/A'\n",
    "\n",
    "    # Extract doctor education (handle missing elements)\n",
    "    education_heading = soup.find('h2', text='Education:')\n",
    "    education_list = education_heading.find_next('ul') if education_heading else []\n",
    "    education = [li.get_text(strip=True) for li in education_list.find_all('li')] if education_list else ['N/A']\n",
    "\n",
    "    # Prepare the doctor data in dictionary format\n",
    "    doctor_data = {\n",
    "        'name': name,\n",
    "        'speciality': speciality,\n",
    "        'education': education,\n",
    "    }\n",
    "\n",
    "    return doctor_data\n",
    "\n",
    "# Main function to read URLs from a text file, get doctor URLs and scrape data\n",
    "def scrape_doctors_from_departments(file_with_urls):\n",
    "    all_doctors = []\n",
    "\n",
    "    # Read department URLs from the file\n",
    "    with open(file_with_urls, 'r') as file:\n",
    "        department_urls = [line.strip() for line in file.readlines()]\n",
    "    \n",
    "    # For each department page, get the doctor profile URLs and scrape their data\n",
    "    for department_url in department_urls:\n",
    "        print(f\"Scraping department page: {department_url}\")\n",
    "        doctor_urls = get_doctor_profile_urls(department_url)\n",
    "        \n",
    "        for profile_url in doctor_urls:\n",
    "            print(f\"Scraping doctor profile: {profile_url}\")\n",
    "            try:\n",
    "                doctor_data = scrape_doctor_data(profile_url)\n",
    "                all_doctors.append(doctor_data)\n",
    "            except Exception as e:\n",
    "                print(f\"Error scraping {profile_url}: {e}\")\n",
    "\n",
    "    # Save the scraped doctor data to a JSON file\n",
    "    with open('../quetta-doctors/aria-hospital.json', 'w') as json_file:\n",
    "        json.dump(all_doctors, json_file, indent=4)\n",
    "\n",
    "    print(f\"Scraping completed. Data saved to doctors_data.json\")\n",
    "\n",
    "# Run the scraper with a file containing department URLs\n",
    "scrape_doctors_from_departments('./aria-hospital.txt')\n"
   ]
  }
 ],
 "metadata": {
  "kernelspec": {
   "display_name": "env",
   "language": "python",
   "name": "python3"
  },
  "language_info": {
   "codemirror_mode": {
    "name": "ipython",
    "version": 3
   },
   "file_extension": ".py",
   "mimetype": "text/x-python",
   "name": "python",
   "nbconvert_exporter": "python",
   "pygments_lexer": "ipython3",
   "version": "3.11.9"
  }
 },
 "nbformat": 4,
 "nbformat_minor": 2
}
